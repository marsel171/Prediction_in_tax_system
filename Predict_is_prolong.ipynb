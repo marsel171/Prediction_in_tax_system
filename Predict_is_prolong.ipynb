{
 "cells": [
  {
   "cell_type": "markdown",
   "metadata": {},
   "source": [
    "## Предсказание целевого показателя в системе налогообложения"
   ]
  },
  {
   "cell_type": "markdown",
   "metadata": {},
   "source": [
    "Задача:\n",
    " - Задача: по 11 признакам, связанным с информациями об организациях в системе налогообложения (из обучающей выборки train), предсказать, продлится пользователь (из тестовой выборки test) или нет. Надо предсказать целевой показатель: is_prolong из train.\n",
    "\n",
    "Описание:\n",
    " - id\tидентификатор\n",
    " - taxactionSystem\t система налогообложения\n",
    " - regdt  Дата регистрации\n",
    " - workerCount   количество сотрудников\n",
    " - fssdccount   количество отправленных отчетов в ФСС из этой организации из БК за все время существования.\n",
    " - pfrdcCount   количество отправленных отчетов в ПФР из этой организации из БК за все время существования.\n",
    " - fnsdcCount   количество отправленных отчетов в ФНС из этой организации из БК за все время существования.\n",
    " - hasCloudCryptCertificate   был ли когда-либо в этой организации выпущен облачный сертификат\n",
    " - OrgCreationDate  дата добавления организации в БК Это не дата регистрации организации в ФНС и т.д., это дата, когда  -  -  организация была добавлена (создана) в БК\n",
    " - documentsCount  количество документов. Считает количество документов в системе (которые показываются на вкладке \"\"Все\"\") в этом количестве учитываются не все документы )\n",
    " - cnt_users   количество пользователей\n",
    "\n",
    "Формат файла ответов:\n",
    " - id, is_prolong"
   ]
  },
  {
   "cell_type": "markdown",
   "metadata": {},
   "source": [
    "### Библиотеки"
   ]
  },
  {
   "cell_type": "code",
   "execution_count": 1,
   "metadata": {},
   "outputs": [
    {
     "name": "stderr",
     "output_type": "stream",
     "text": [
      "C:\\Anaconda3\\lib\\site-packages\\sklearn\\cross_validation.py:41: DeprecationWarning: This module was deprecated in version 0.18 in favor of the model_selection module into which all the refactored classes and functions are moved. Also note that the interface of the new CV iterators are different from that of this module. This module will be removed in 0.20.\n",
      "  \"This module will be removed in 0.20.\", DeprecationWarning)\n"
     ]
    }
   ],
   "source": [
    "import numpy as np\n",
    "import pandas as pd\n",
    "from sklearn.feature_extraction.text import CountVectorizer\n",
    "from sklearn import cross_validation, metrics, naive_bayes, linear_model, svm, tree, ensemble \n",
    "from dateutil.parser import parse\n",
    "from sklearn import metrics\n",
    "import seaborn as sns\n",
    "import matplotlib.pyplot as plt\n",
    "%matplotlib inline"
   ]
  },
  {
   "cell_type": "markdown",
   "metadata": {},
   "source": [
    "### Загрузка данных"
   ]
  },
  {
   "cell_type": "code",
   "execution_count": 2,
   "metadata": {},
   "outputs": [],
   "source": [
    "X_test = pd.read_csv('test.csv',)\n",
    "X_test.columns = X_test.columns.str.strip() #удаление пробелов \n",
    "X_train = pd.read_csv('train.csv')\n",
    "X_train.columns = X_train.columns.str.strip()"
   ]
  },
  {
   "cell_type": "markdown",
   "metadata": {},
   "source": [
    "### Структура данных датасета X_train и X_test\n",
    " - размеры\n",
    " - проверка пропущенных значений \n",
    " - типы признаков"
   ]
  },
  {
   "cell_type": "code",
   "execution_count": 3,
   "metadata": {},
   "outputs": [
    {
     "name": "stdout",
     "output_type": "stream",
     "text": [
      "Shape : (7626, 12)\n",
      "Isnull : False\n",
      "<class 'pandas.core.frame.DataFrame'>\n",
      "RangeIndex: 7626 entries, 0 to 7625\n",
      "Data columns (total 12 columns):\n",
      "id                          7626 non-null int64\n",
      "taxactionSystem             7626 non-null object\n",
      "regdt                       7626 non-null object\n",
      "workerCount                 7626 non-null float64\n",
      "fssdccount                  7626 non-null float64\n",
      "pfrdcCount                  7626 non-null float64\n",
      "fnsdcCount                  7626 non-null float64\n",
      "hasCloudCryptCertificate    7626 non-null int64\n",
      "OrgCreationDate             7626 non-null object\n",
      "documentsCount              7626 non-null float64\n",
      "cnt_users                   7626 non-null float64\n",
      "is_prolong                  7626 non-null float64\n",
      "dtypes: float64(7), int64(2), object(3)\n",
      "memory usage: 715.0+ KB\n",
      "None\n"
     ]
    },
    {
     "data": {
      "text/html": [
       "<div>\n",
       "<style scoped>\n",
       "    .dataframe tbody tr th:only-of-type {\n",
       "        vertical-align: middle;\n",
       "    }\n",
       "\n",
       "    .dataframe tbody tr th {\n",
       "        vertical-align: top;\n",
       "    }\n",
       "\n",
       "    .dataframe thead th {\n",
       "        text-align: right;\n",
       "    }\n",
       "</style>\n",
       "<table border=\"1\" class=\"dataframe\">\n",
       "  <thead>\n",
       "    <tr style=\"text-align: right;\">\n",
       "      <th></th>\n",
       "      <th>id</th>\n",
       "      <th>taxactionSystem</th>\n",
       "      <th>regdt</th>\n",
       "      <th>workerCount</th>\n",
       "      <th>fssdccount</th>\n",
       "      <th>pfrdcCount</th>\n",
       "      <th>fnsdcCount</th>\n",
       "      <th>hasCloudCryptCertificate</th>\n",
       "      <th>OrgCreationDate</th>\n",
       "      <th>documentsCount</th>\n",
       "      <th>cnt_users</th>\n",
       "      <th>is_prolong</th>\n",
       "    </tr>\n",
       "  </thead>\n",
       "  <tbody>\n",
       "    <tr>\n",
       "      <th>0</th>\n",
       "      <td>101969</td>\n",
       "      <td>УСН  Доходы 6%</td>\n",
       "      <td>1994-03-26</td>\n",
       "      <td>5.0</td>\n",
       "      <td>0.0</td>\n",
       "      <td>0.0</td>\n",
       "      <td>0.0</td>\n",
       "      <td>0</td>\n",
       "      <td>04.12.2014</td>\n",
       "      <td>2.0</td>\n",
       "      <td>0.0</td>\n",
       "      <td>1.0</td>\n",
       "    </tr>\n",
       "    <tr>\n",
       "      <th>1</th>\n",
       "      <td>108477</td>\n",
       "      <td>ОСНО</td>\n",
       "      <td>2012-12-05</td>\n",
       "      <td>1.0</td>\n",
       "      <td>0.0</td>\n",
       "      <td>0.0</td>\n",
       "      <td>0.0</td>\n",
       "      <td>0</td>\n",
       "      <td>22.09.2014</td>\n",
       "      <td>5.0</td>\n",
       "      <td>0.0</td>\n",
       "      <td>0.0</td>\n",
       "    </tr>\n",
       "    <tr>\n",
       "      <th>2</th>\n",
       "      <td>101476</td>\n",
       "      <td>УСН  Доходы 6%</td>\n",
       "      <td>2009-11-15</td>\n",
       "      <td>1.0</td>\n",
       "      <td>3.0</td>\n",
       "      <td>3.0</td>\n",
       "      <td>2.0</td>\n",
       "      <td>0</td>\n",
       "      <td>05.04.2016</td>\n",
       "      <td>0.0</td>\n",
       "      <td>0.0</td>\n",
       "      <td>1.0</td>\n",
       "    </tr>\n",
       "    <tr>\n",
       "      <th>3</th>\n",
       "      <td>102579</td>\n",
       "      <td>УСН  Доходы за вычетом расходов 15%</td>\n",
       "      <td>2015-08-09</td>\n",
       "      <td>1.0</td>\n",
       "      <td>0.0</td>\n",
       "      <td>0.0</td>\n",
       "      <td>0.0</td>\n",
       "      <td>0</td>\n",
       "      <td>24.09.2015</td>\n",
       "      <td>0.0</td>\n",
       "      <td>0.0</td>\n",
       "      <td>0.0</td>\n",
       "    </tr>\n",
       "    <tr>\n",
       "      <th>4</th>\n",
       "      <td>103110</td>\n",
       "      <td>УСН  Доходы за вычетом расходов 15%</td>\n",
       "      <td>2015-03-29</td>\n",
       "      <td>0.0</td>\n",
       "      <td>0.0</td>\n",
       "      <td>0.0</td>\n",
       "      <td>0.0</td>\n",
       "      <td>0</td>\n",
       "      <td>03.04.2015</td>\n",
       "      <td>4.0</td>\n",
       "      <td>0.0</td>\n",
       "      <td>0.0</td>\n",
       "    </tr>\n",
       "  </tbody>\n",
       "</table>\n",
       "</div>"
      ],
      "text/plain": [
       "       id                       taxactionSystem        regdt  workerCount  \\\n",
       "0  101969                       УСН  Доходы 6%   1994-03-26           5.0   \n",
       "1  108477                                 ОСНО   2012-12-05           1.0   \n",
       "2  101476                       УСН  Доходы 6%   2009-11-15           1.0   \n",
       "3  102579  УСН  Доходы за вычетом расходов 15%   2015-08-09           1.0   \n",
       "4  103110  УСН  Доходы за вычетом расходов 15%   2015-03-29           0.0   \n",
       "\n",
       "   fssdccount  pfrdcCount  fnsdcCount  hasCloudCryptCertificate  \\\n",
       "0         0.0         0.0         0.0                         0   \n",
       "1         0.0         0.0         0.0                         0   \n",
       "2         3.0         3.0         2.0                         0   \n",
       "3         0.0         0.0         0.0                         0   \n",
       "4         0.0         0.0         0.0                         0   \n",
       "\n",
       "  OrgCreationDate  documentsCount  cnt_users  is_prolong  \n",
       "0     04.12.2014              2.0        0.0         1.0  \n",
       "1     22.09.2014              5.0        0.0         0.0  \n",
       "2     05.04.2016              0.0        0.0         1.0  \n",
       "3     24.09.2015              0.0        0.0         0.0  \n",
       "4     03.04.2015              4.0        0.0         0.0  "
      ]
     },
     "execution_count": 3,
     "metadata": {},
     "output_type": "execute_result"
    }
   ],
   "source": [
    "print('Shape : ' + str(X_train.shape))\n",
    "print('Isnull : ' +str(X_train.isnull().values.any()))\n",
    "print(X_train.info())\n",
    "X_train.head()"
   ]
  },
  {
   "cell_type": "code",
   "execution_count": 4,
   "metadata": {},
   "outputs": [
    {
     "name": "stdout",
     "output_type": "stream",
     "text": [
      "Shape : (2542, 11)\n",
      "Isnull : False\n",
      "<class 'pandas.core.frame.DataFrame'>\n",
      "RangeIndex: 2542 entries, 0 to 2541\n",
      "Data columns (total 11 columns):\n",
      "id                          2542 non-null int64\n",
      "taxactionSystem             2542 non-null object\n",
      "regdt                       2542 non-null object\n",
      "workerCount                 2542 non-null float64\n",
      "fssdccount                  2542 non-null float64\n",
      "pfrdcCount                  2542 non-null float64\n",
      "fnsdcCount                  2542 non-null float64\n",
      "hasCloudCryptCertificate    2542 non-null int64\n",
      "OrgCreationDate             2542 non-null object\n",
      "documentsCount              2542 non-null float64\n",
      "cnt_users                   2542 non-null float64\n",
      "dtypes: float64(6), int64(2), object(3)\n",
      "memory usage: 218.5+ KB\n",
      "None\n"
     ]
    },
    {
     "data": {
      "text/html": [
       "<div>\n",
       "<style scoped>\n",
       "    .dataframe tbody tr th:only-of-type {\n",
       "        vertical-align: middle;\n",
       "    }\n",
       "\n",
       "    .dataframe tbody tr th {\n",
       "        vertical-align: top;\n",
       "    }\n",
       "\n",
       "    .dataframe thead th {\n",
       "        text-align: right;\n",
       "    }\n",
       "</style>\n",
       "<table border=\"1\" class=\"dataframe\">\n",
       "  <thead>\n",
       "    <tr style=\"text-align: right;\">\n",
       "      <th></th>\n",
       "      <th>id</th>\n",
       "      <th>taxactionSystem</th>\n",
       "      <th>regdt</th>\n",
       "      <th>workerCount</th>\n",
       "      <th>fssdccount</th>\n",
       "      <th>pfrdcCount</th>\n",
       "      <th>fnsdcCount</th>\n",
       "      <th>hasCloudCryptCertificate</th>\n",
       "      <th>OrgCreationDate</th>\n",
       "      <th>documentsCount</th>\n",
       "      <th>cnt_users</th>\n",
       "    </tr>\n",
       "  </thead>\n",
       "  <tbody>\n",
       "    <tr>\n",
       "      <th>0</th>\n",
       "      <td>106879</td>\n",
       "      <td>ОСНО</td>\n",
       "      <td>2014-11-01</td>\n",
       "      <td>0.0</td>\n",
       "      <td>1.0</td>\n",
       "      <td>0.0</td>\n",
       "      <td>2.0</td>\n",
       "      <td>1</td>\n",
       "      <td>31.03.2015</td>\n",
       "      <td>5.0</td>\n",
       "      <td>1.0</td>\n",
       "    </tr>\n",
       "    <tr>\n",
       "      <th>1</th>\n",
       "      <td>108820</td>\n",
       "      <td>УСН  Доходы за вычетом расходов 6%</td>\n",
       "      <td>2012-02-25</td>\n",
       "      <td>2.0</td>\n",
       "      <td>1.0</td>\n",
       "      <td>2.0</td>\n",
       "      <td>1.0</td>\n",
       "      <td>1</td>\n",
       "      <td>15.01.2015</td>\n",
       "      <td>5.0</td>\n",
       "      <td>0.0</td>\n",
       "    </tr>\n",
       "    <tr>\n",
       "      <th>2</th>\n",
       "      <td>104079</td>\n",
       "      <td>УСН  Доходы за вычетом расходов 15%</td>\n",
       "      <td>2014-06-09</td>\n",
       "      <td>0.0</td>\n",
       "      <td>1.0</td>\n",
       "      <td>1.0</td>\n",
       "      <td>2.0</td>\n",
       "      <td>0</td>\n",
       "      <td>15.05.2014</td>\n",
       "      <td>6.0</td>\n",
       "      <td>1.0</td>\n",
       "    </tr>\n",
       "    <tr>\n",
       "      <th>3</th>\n",
       "      <td>106924</td>\n",
       "      <td>УСН  Доходы за вычетом расходов 15%</td>\n",
       "      <td>2011-09-11</td>\n",
       "      <td>1.0</td>\n",
       "      <td>0.0</td>\n",
       "      <td>0.0</td>\n",
       "      <td>0.0</td>\n",
       "      <td>0</td>\n",
       "      <td>04.09.2014</td>\n",
       "      <td>5.0</td>\n",
       "      <td>0.0</td>\n",
       "    </tr>\n",
       "    <tr>\n",
       "      <th>4</th>\n",
       "      <td>106335</td>\n",
       "      <td>УСН  Доходы за вычетом расходов 5%</td>\n",
       "      <td>2005-06-04</td>\n",
       "      <td>3.0</td>\n",
       "      <td>2.0</td>\n",
       "      <td>2.0</td>\n",
       "      <td>2.0</td>\n",
       "      <td>0</td>\n",
       "      <td>04.03.2016</td>\n",
       "      <td>7.0</td>\n",
       "      <td>0.0</td>\n",
       "    </tr>\n",
       "  </tbody>\n",
       "</table>\n",
       "</div>"
      ],
      "text/plain": [
       "       id                       taxactionSystem        regdt  workerCount  \\\n",
       "0  106879                                 ОСНО   2014-11-01           0.0   \n",
       "1  108820   УСН  Доходы за вычетом расходов 6%   2012-02-25           2.0   \n",
       "2  104079  УСН  Доходы за вычетом расходов 15%   2014-06-09           0.0   \n",
       "3  106924  УСН  Доходы за вычетом расходов 15%   2011-09-11           1.0   \n",
       "4  106335   УСН  Доходы за вычетом расходов 5%   2005-06-04           3.0   \n",
       "\n",
       "   fssdccount  pfrdcCount  fnsdcCount  hasCloudCryptCertificate  \\\n",
       "0         1.0         0.0         2.0                         1   \n",
       "1         1.0         2.0         1.0                         1   \n",
       "2         1.0         1.0         2.0                         0   \n",
       "3         0.0         0.0         0.0                         0   \n",
       "4         2.0         2.0         2.0                         0   \n",
       "\n",
       "  OrgCreationDate  documentsCount  cnt_users  \n",
       "0     31.03.2015              5.0        1.0  \n",
       "1     15.01.2015              5.0        0.0  \n",
       "2     15.05.2014              6.0        1.0  \n",
       "3     04.09.2014              5.0        0.0  \n",
       "4     04.03.2016              7.0        0.0  "
      ]
     },
     "execution_count": 4,
     "metadata": {},
     "output_type": "execute_result"
    }
   ],
   "source": [
    "print('Shape : ' + str(X_test.shape))\n",
    "print('Isnull : ' +str(X_test.isnull().values.any()))\n",
    "print(X_test.info())\n",
    "X_test.head()"
   ]
  },
  {
   "cell_type": "markdown",
   "metadata": {},
   "source": [
    "Как видно, NaNы в данных отсутствуют. Кроме числовых типов, имеются 3 объекта: taxactionSystem, regdt и OrgCreationDate. taxactionSystem - строки, regdt и OrgCreationDate - даты."
   ]
  },
  {
   "cell_type": "markdown",
   "metadata": {},
   "source": [
    "### Предобработка данных"
   ]
  },
  {
   "cell_type": "markdown",
   "metadata": {},
   "source": [
    " - Текстовый признак taxactionSystem будем кодировать числовым по количеству слов. Из regdt и OrgCreationDate выделим год, месяц и день. Добавим все в виде новых числовых признаков. Позже удалим исходные.\n",
    " - Для корректной кодировки необходимо объединить обучающую и тестовую выборки. Добавим новый столбец is_prolong в X_test из нулей для совпадения числа столбцов. Первое значение сделаем =2 для идентицикации начала тестовой выборки (на всякий случай)."
   ]
  },
  {
   "cell_type": "code",
   "execution_count": 5,
   "metadata": {},
   "outputs": [
    {
     "name": "stdout",
     "output_type": "stream",
     "text": [
      "Shape of X_train: (7626, 12)\n",
      "Shape of X_test: (2542, 12)\n",
      "Shape of X: (10168, 12)\n"
     ]
    },
    {
     "name": "stderr",
     "output_type": "stream",
     "text": [
      "C:\\Anaconda3\\lib\\site-packages\\ipykernel_launcher.py:2: SettingWithCopyWarning: \n",
      "A value is trying to be set on a copy of a slice from a DataFrame\n",
      "\n",
      "See the caveats in the documentation: http://pandas.pydata.org/pandas-docs/stable/indexing.html#indexing-view-versus-copy\n",
      "  \n"
     ]
    }
   ],
   "source": [
    "X_test['is_prolong']=np.zeros(X_test.shape[0])\n",
    "X_test.is_prolong[0]=2;\n",
    "X = pd.concat([X_train,X_test],axis=0)\n",
    "X.reset_index(drop=True, inplace=True)\n",
    "print('Shape of X_train: ' + str(X_train.shape))\n",
    "print('Shape of X_test: ' + str(X_test.shape))\n",
    "print('Shape of X: ' + str(X.shape))"
   ]
  },
  {
   "cell_type": "markdown",
   "metadata": {},
   "source": [
    " - Проверим данные regdt и OrgCreationDate на пустые значения, а также возможность выделить год. Построим гистограммы."
   ]
  },
  {
   "cell_type": "code",
   "execution_count": 6,
   "metadata": {},
   "outputs": [
    {
     "name": "stdout",
     "output_type": "stream",
     "text": [
      "empty_reg = 27\n",
      "empty_org = 0\n"
     ]
    },
    {
     "data": {
      "image/png": "[encoded data removed]",
      "text/plain": [
       "<matplotlib.figure.Figure at 0x22ac0da3748>"
      ]
     },
     "metadata": {},
     "output_type": "display_data"
    }
   ],
   "source": [
    "year_check1=[];\n",
    "year_check2=[];\n",
    "empty_reg=0;\n",
    "empty_org=0;\n",
    "for i in range(X.shape[0]):\n",
    "    \n",
    "    if X.regdt[i].strip():\n",
    "        year_check1.append(parse(X.regdt[i]).year)\n",
    "    else:\n",
    "        empty_reg = empty_reg+1\n",
    "        \n",
    "    if X.OrgCreationDate[i].strip(): \n",
    "        year_check2.append(parse(X.OrgCreationDate[i]).year)\n",
    "    else:\n",
    "        empty_org = empty_org+1\n",
    "print('empty_reg = ' + str(empty_reg))\n",
    "print('empty_org = ' + str(empty_org))\n",
    "plt.figure(figsize=(16,6));    \n",
    "plt.subplot(1,2,1);\n",
    "plt.hist(year_check1,label='min = ' + str(np.min(year_check1))+ ', max = ' + str(np.max(year_check1)));\n",
    "plt.title('regdt');\n",
    "plt.legend();\n",
    "plt.subplot(1,2,2);\n",
    "plt.hist(year_check2,label='min = ' + str(np.min(year_check2))+ ', max = ' + str(np.max(year_check2)));\n",
    "plt.title('OrgCreationDate');\n",
    "plt.legend();"
   ]
  },
  {
   "cell_type": "code",
   "execution_count": 7,
   "metadata": {},
   "outputs": [
    {
     "data": {
      "text/plain": [
       "(1750, 2020)"
      ]
     },
     "execution_count": 7,
     "metadata": {},
     "output_type": "execute_result"
    },
    {
     "data": {
      "image/png": "[encoded data removed]",
      "text/plain": [
       "<matplotlib.figure.Figure at 0x22ac0eb0f98>"
      ]
     },
     "metadata": {},
     "output_type": "display_data"
    }
   ],
   "source": [
    "plt.hist(year_check1,bins=100);\n",
    "plt.title('regdt');\n",
    "plt.xlim([1750, 2020])"
   ]
  },
  {
   "cell_type": "markdown",
   "metadata": {},
   "source": [
    " - Как видно в данных присутствуют как пустые (empty_reg = 27), так и некорректные значения (1 для regdt и 1900 для  OrgCreationDate). Так как варианты с осреднением или обнулением даты не подойдут, то очевидным решением будет исключение таких данных. Сделаем это:"
   ]
  },
  {
   "cell_type": "code",
   "execution_count": 8,
   "metadata": {},
   "outputs": [],
   "source": [
    "def time_filter_index(feature_sample,year_min):\n",
    "    indx=[];\n",
    "    for i in range(feature_sample.shape[0]):\n",
    "        if feature_sample[i].strip():\n",
    "            if int(parse(feature_sample[i]).year) < year_min:\n",
    "                indx.append(i)\n",
    "        else:\n",
    "            indx.append(i)\n",
    "    return indx       "
   ]
  },
  {
   "cell_type": "code",
   "execution_count": 9,
   "metadata": {},
   "outputs": [
    {
     "name": "stdout",
     "output_type": "stream",
     "text": [
      "Shape before filtration: (10168, 12)\n",
      "Shape after filtration: (10134, 12)\n"
     ]
    }
   ],
   "source": [
    "indx = time_filter_index(X.regdt,1950)\n",
    "print('Shape before filtration: ' + str(X.shape))      \n",
    "X_regf = X.drop(X.index[indx])\n",
    "X_regf.reset_index(drop=True, inplace=True)\n",
    "print('Shape after filtration: ' + str(X_regf.shape))"
   ]
  },
  {
   "cell_type": "code",
   "execution_count": 10,
   "metadata": {},
   "outputs": [
    {
     "name": "stdout",
     "output_type": "stream",
     "text": [
      "Shape before filtration: (10134, 12)\n",
      "Shape after filtration: (8474, 12)\n"
     ]
    }
   ],
   "source": [
    "indx = time_filter_index(X_regf.OrgCreationDate,1950)\n",
    "print('Shape before filtration: ' + str(X_regf.shape))      \n",
    "X_regorgf = X_regf.drop(X_regf.index[indx]) \n",
    "X_regorgf.reset_index(drop=True, inplace=True)\n",
    "print('Shape after filtration: ' + str(X_regorgf.shape)) "
   ]
  },
  {
   "cell_type": "markdown",
   "metadata": {},
   "source": [
    " - теперь представим столбцы с датами в виде новых столбцов: год, месяц, день. Удалим исходные:"
   ]
  },
  {
   "cell_type": "code",
   "execution_count": 11,
   "metadata": {},
   "outputs": [],
   "source": [
    "def time_vec(X,feature_sample):\n",
    "    X[feature_sample] = X[feature_sample].apply(pd.to_datetime);\n",
    "    X[feature_sample + '_year'] = X[feature_sample].apply(lambda x: x.year);\n",
    "    X[feature_sample + '_month'] = X[feature_sample].apply(lambda x: x.month);\n",
    "    X[feature_sample + '_day'] = X[feature_sample].apply(lambda x: x.day);\n",
    "    X = X.drop(feature_sample,axis=1)\n",
    "    return X"
   ]
  },
  {
   "cell_type": "code",
   "execution_count": 12,
   "metadata": {},
   "outputs": [],
   "source": [
    "X_regorgf_vec = time_vec(X_regorgf,'regdt')\n",
    "X_regorgf_vec = time_vec(X_regorgf_vec,'OrgCreationDate')"
   ]
  },
  {
   "cell_type": "markdown",
   "metadata": {},
   "source": [
    " - кодируем признак taxactionSystem:"
   ]
  },
  {
   "cell_type": "code",
   "execution_count": 13,
   "metadata": {},
   "outputs": [],
   "source": [
    "def vectorize_str(feature_sample):\n",
    "    vec = CountVectorizer()\n",
    "    xv = vec.fit_transform(feature_sample)    \n",
    "    feature_sample_vec = pd.DataFrame(xv.toarray(),columns = vec.get_feature_names())\n",
    "    return feature_sample_vec"
   ]
  },
  {
   "cell_type": "code",
   "execution_count": 14,
   "metadata": {},
   "outputs": [
    {
     "name": "stdout",
     "output_type": "stream",
     "text": [
      "УСН:     4689\n",
      "доходы:  4689\n",
      "за:      2125\n",
      "вычетом: 2125\n",
      "расходов:2125\n"
     ]
    }
   ],
   "source": [
    "tax_vec = vectorize_str(X_regorgf_vec.taxactionSystem)\n",
    "print('УСН:     ' + str(np.sum(tax_vec.усн)))\n",
    "print('доходы:  ' + str(np.sum(tax_vec.доходы)))\n",
    "print('за:      ' + str(np.sum(tax_vec.за)))\n",
    "print('вычетом: ' + str(np.sum(tax_vec.вычетом)))\n",
    "print('расходов:' + str(np.sum(tax_vec.расходов)))"
   ]
  },
  {
   "cell_type": "markdown",
   "metadata": {},
   "source": [
    " - Слова \"УСН\" и \"доходы\" встречаются в тексте только вместе, так же как и слова \"за\", \"вычетом\", \"расходов\". Избавимся от некоторых оставив только уникальные:"
   ]
  },
  {
   "cell_type": "code",
   "execution_count": 15,
   "metadata": {},
   "outputs": [],
   "source": [
    "tax_vec = tax_vec.drop(['доходы','за','вычетом'],axis=1)"
   ]
  },
  {
   "cell_type": "markdown",
   "metadata": {},
   "source": [
    " - добавим вконец выборки кодированные данные, удалив исходные:"
   ]
  },
  {
   "cell_type": "code",
   "execution_count": 16,
   "metadata": {
    "scrolled": true
   },
   "outputs": [],
   "source": [
    "X_regorgf_vec_tax_vec = pd.concat([X_regorgf_vec,tax_vec],axis=1)\n",
    "X_regorgf_vec_tax_vec = X_regorgf_vec_tax_vec.drop('taxactionSystem',axis=1);"
   ]
  },
  {
   "cell_type": "markdown",
   "metadata": {},
   "source": [
    " - переименуем предобработанные данные: "
   ]
  },
  {
   "cell_type": "code",
   "execution_count": 17,
   "metadata": {},
   "outputs": [],
   "source": [
    "X = X_regorgf_vec_tax_vec"
   ]
  },
  {
   "cell_type": "markdown",
   "metadata": {},
   "source": [
    " - Разделим обратно выборку на обучающую и тестовую по границе, где is_prolong=2:"
   ]
  },
  {
   "cell_type": "code",
   "execution_count": 18,
   "metadata": {},
   "outputs": [
    {
     "name": "stdout",
     "output_type": "stream",
     "text": [
      "Shape of X_train: (6340, 23)\n",
      "Shape of X_test: (2134, 23)\n"
     ]
    }
   ],
   "source": [
    "X_train = X[:X[X.is_prolong==2].index[0]]\n",
    "X_test = X[X[X.is_prolong==2].index[0]:]\n",
    "print('Shape of X_train: ' + str(X_train.shape))\n",
    "print('Shape of X_test: ' + str(X_test.shape))\n",
    "X_train.reset_index(drop=True, inplace=True)\n",
    "X_test.reset_index(drop=True, inplace=True)"
   ]
  },
  {
   "cell_type": "markdown",
   "metadata": {},
   "source": [
    " - Перемешаем обучающую выборку:"
   ]
  },
  {
   "cell_type": "code",
   "execution_count": 19,
   "metadata": {},
   "outputs": [],
   "source": [
    "from sklearn.utils import shuffle\n",
    "X_train = shuffle(X_train, random_state=123)"
   ]
  },
  {
   "cell_type": "markdown",
   "metadata": {},
   "source": [
    " - Отделим столбец ID, а метки is_prolong запишем в y_train для обучающей выборки. Для тестовой также отделим столбец ID и удалим заполненные ранее нулями is_prolong:"
   ]
  },
  {
   "cell_type": "code",
   "execution_count": 20,
   "metadata": {},
   "outputs": [
    {
     "name": "stdout",
     "output_type": "stream",
     "text": [
      "Shape of X_train: (6340, 21)\n",
      "Shape of y_train: (6340,)\n",
      "Shape of X_test: (2134, 21)\n"
     ]
    }
   ],
   "source": [
    "ID_train = X_train.id\n",
    "ID_test = X_test.id\n",
    "y_train = X_train.is_prolong\n",
    "X_train = X_train.drop(['id','is_prolong'],axis=1)\n",
    "X_test = X_test.drop(['id','is_prolong'],axis=1)\n",
    "print('Shape of X_train: ' + str(X_train.shape))\n",
    "print('Shape of y_train: ' + str(y_train.shape))\n",
    "print('Shape of X_test: ' + str(X_test.shape))"
   ]
  },
  {
   "cell_type": "markdown",
   "metadata": {},
   "source": [
    "### Корреляции в данных"
   ]
  },
  {
   "cell_type": "markdown",
   "metadata": {},
   "source": [
    " - оценим уровень линейной зависимости между признаками и целевой переменной корреляцией Пирсона:"
   ]
  },
  {
   "cell_type": "code",
   "execution_count": 21,
   "metadata": {},
   "outputs": [
    {
     "name": "stdout",
     "output_type": "stream",
     "text": [
      "workerCount                 0.282212\n",
      "fssdccount                  0.400511\n",
      "pfrdcCount                  0.358827\n",
      "fnsdcCount                  0.401182\n",
      "hasCloudCryptCertificate    0.413299\n",
      "documentsCount              0.396952\n",
      "cnt_users                   0.154405\n",
      "regdt_year                 -0.128621\n",
      "regdt_month                -0.012211\n",
      "regdt_day                  -0.001637\n",
      "OrgCreationDate_year        0.166993\n",
      "OrgCreationDate_month      -0.066271\n",
      "OrgCreationDate_day        -0.023688\n",
      "10                          0.008051\n",
      "12                          0.004173\n",
      "13                         -0.015837\n",
      "15                          0.005211\n",
      "енвд                        0.046687\n",
      "осно                       -0.102109\n",
      "расходов                    0.030987\n",
      "усн                         0.077148\n",
      "dtype: float64\n"
     ]
    },
    {
     "data": {
      "image/png": "[encoded data removed]",
      "text/plain": [
       "<matplotlib.figure.Figure at 0x22ac116f748>"
      ]
     },
     "metadata": {},
     "output_type": "display_data"
    }
   ],
   "source": [
    "plt.plot(range(len(X_train.corrwith(y_train))),X_train.corrwith(y_train));\n",
    "print(X_train.corrwith(y_train))"
   ]
  },
  {
   "cell_type": "markdown",
   "metadata": {},
   "source": [
    " - В целом корреляция не сильная. Максимальная корреляция признаков с метками достигает 0.4. Также посчитаем корреляции между вещественными признаками:"
   ]
  },
  {
   "cell_type": "code",
   "execution_count": 22,
   "metadata": {},
   "outputs": [
    {
     "data": {
      "text/html": [
       "<div>\n",
       "<style scoped>\n",
       "    .dataframe tbody tr th:only-of-type {\n",
       "        vertical-align: middle;\n",
       "    }\n",
       "\n",
       "    .dataframe tbody tr th {\n",
       "        vertical-align: top;\n",
       "    }\n",
       "\n",
       "    .dataframe thead th {\n",
       "        text-align: right;\n",
       "    }\n",
       "</style>\n",
       "<table border=\"1\" class=\"dataframe\">\n",
       "  <thead>\n",
       "    <tr style=\"text-align: right;\">\n",
       "      <th></th>\n",
       "      <th>workerCount</th>\n",
       "      <th>fssdccount</th>\n",
       "      <th>pfrdcCount</th>\n",
       "      <th>fnsdcCount</th>\n",
       "      <th>hasCloudCryptCertificate</th>\n",
       "      <th>documentsCount</th>\n",
       "      <th>cnt_users</th>\n",
       "      <th>regdt_year</th>\n",
       "      <th>regdt_month</th>\n",
       "      <th>regdt_day</th>\n",
       "      <th>...</th>\n",
       "      <th>OrgCreationDate_month</th>\n",
       "      <th>OrgCreationDate_day</th>\n",
       "      <th>10</th>\n",
       "      <th>12</th>\n",
       "      <th>13</th>\n",
       "      <th>15</th>\n",
       "      <th>енвд</th>\n",
       "      <th>осно</th>\n",
       "      <th>расходов</th>\n",
       "      <th>усн</th>\n",
       "    </tr>\n",
       "  </thead>\n",
       "  <tbody>\n",
       "    <tr>\n",
       "      <th>workerCount</th>\n",
       "      <td>1.000000</td>\n",
       "      <td>0.250899</td>\n",
       "      <td>0.300031</td>\n",
       "      <td>0.104250</td>\n",
       "      <td>-0.018313</td>\n",
       "      <td>0.254752</td>\n",
       "      <td>0.076771</td>\n",
       "      <td>-0.313036</td>\n",
       "      <td>-0.051058</td>\n",
       "      <td>-0.026454</td>\n",
       "      <td>...</td>\n",
       "      <td>-0.079260</td>\n",
       "      <td>-0.021363</td>\n",
       "      <td>0.037797</td>\n",
       "      <td>0.037395</td>\n",
       "      <td>0.002563</td>\n",
       "      <td>0.052674</td>\n",
       "      <td>0.190070</td>\n",
       "      <td>-0.164085</td>\n",
       "      <td>0.089321</td>\n",
       "      <td>0.067469</td>\n",
       "    </tr>\n",
       "    <tr>\n",
       "      <th>fssdccount</th>\n",
       "      <td>0.250899</td>\n",
       "      <td>1.000000</td>\n",
       "      <td>0.780602</td>\n",
       "      <td>0.742483</td>\n",
       "      <td>0.452493</td>\n",
       "      <td>0.353639</td>\n",
       "      <td>0.185321</td>\n",
       "      <td>-0.086437</td>\n",
       "      <td>-0.021992</td>\n",
       "      <td>-0.003561</td>\n",
       "      <td>...</td>\n",
       "      <td>-0.078681</td>\n",
       "      <td>-0.046279</td>\n",
       "      <td>0.000191</td>\n",
       "      <td>0.018262</td>\n",
       "      <td>-0.012869</td>\n",
       "      <td>0.042681</td>\n",
       "      <td>0.011505</td>\n",
       "      <td>-0.047709</td>\n",
       "      <td>0.064466</td>\n",
       "      <td>0.041760</td>\n",
       "    </tr>\n",
       "    <tr>\n",
       "      <th>pfrdcCount</th>\n",
       "      <td>0.300031</td>\n",
       "      <td>0.780602</td>\n",
       "      <td>1.000000</td>\n",
       "      <td>0.651791</td>\n",
       "      <td>0.381930</td>\n",
       "      <td>0.321979</td>\n",
       "      <td>0.156138</td>\n",
       "      <td>-0.147571</td>\n",
       "      <td>-0.025601</td>\n",
       "      <td>-0.015111</td>\n",
       "      <td>...</td>\n",
       "      <td>-0.088212</td>\n",
       "      <td>-0.025191</td>\n",
       "      <td>0.002174</td>\n",
       "      <td>0.024961</td>\n",
       "      <td>-0.011427</td>\n",
       "      <td>0.041427</td>\n",
       "      <td>0.068476</td>\n",
       "      <td>-0.117206</td>\n",
       "      <td>0.077022</td>\n",
       "      <td>0.083194</td>\n",
       "    </tr>\n",
       "    <tr>\n",
       "      <th>fnsdcCount</th>\n",
       "      <td>0.104250</td>\n",
       "      <td>0.742483</td>\n",
       "      <td>0.651791</td>\n",
       "      <td>1.000000</td>\n",
       "      <td>0.564082</td>\n",
       "      <td>0.389442</td>\n",
       "      <td>0.197000</td>\n",
       "      <td>-0.037571</td>\n",
       "      <td>0.003128</td>\n",
       "      <td>-0.002039</td>\n",
       "      <td>...</td>\n",
       "      <td>-0.043067</td>\n",
       "      <td>-0.032015</td>\n",
       "      <td>-0.028980</td>\n",
       "      <td>0.001062</td>\n",
       "      <td>-0.015041</td>\n",
       "      <td>-0.087085</td>\n",
       "      <td>0.011842</td>\n",
       "      <td>0.193214</td>\n",
       "      <td>-0.081389</td>\n",
       "      <td>-0.181214</td>\n",
       "    </tr>\n",
       "    <tr>\n",
       "      <th>hasCloudCryptCertificate</th>\n",
       "      <td>-0.018313</td>\n",
       "      <td>0.452493</td>\n",
       "      <td>0.381930</td>\n",
       "      <td>0.564082</td>\n",
       "      <td>1.000000</td>\n",
       "      <td>0.291966</td>\n",
       "      <td>0.160930</td>\n",
       "      <td>0.072554</td>\n",
       "      <td>0.004064</td>\n",
       "      <td>-0.008354</td>\n",
       "      <td>...</td>\n",
       "      <td>-0.043132</td>\n",
       "      <td>0.024912</td>\n",
       "      <td>-0.031746</td>\n",
       "      <td>0.008701</td>\n",
       "      <td>-0.014565</td>\n",
       "      <td>0.003495</td>\n",
       "      <td>-0.051270</td>\n",
       "      <td>-0.004642</td>\n",
       "      <td>0.014128</td>\n",
       "      <td>0.040881</td>\n",
       "    </tr>\n",
       "    <tr>\n",
       "      <th>documentsCount</th>\n",
       "      <td>0.254752</td>\n",
       "      <td>0.353639</td>\n",
       "      <td>0.321979</td>\n",
       "      <td>0.389442</td>\n",
       "      <td>0.291966</td>\n",
       "      <td>1.000000</td>\n",
       "      <td>0.248045</td>\n",
       "      <td>0.024097</td>\n",
       "      <td>-0.014604</td>\n",
       "      <td>0.002098</td>\n",
       "      <td>...</td>\n",
       "      <td>-0.066929</td>\n",
       "      <td>-0.011538</td>\n",
       "      <td>0.043085</td>\n",
       "      <td>0.026478</td>\n",
       "      <td>0.004057</td>\n",
       "      <td>0.053851</td>\n",
       "      <td>-0.054922</td>\n",
       "      <td>-0.062537</td>\n",
       "      <td>0.104700</td>\n",
       "      <td>0.100042</td>\n",
       "    </tr>\n",
       "    <tr>\n",
       "      <th>cnt_users</th>\n",
       "      <td>0.076771</td>\n",
       "      <td>0.185321</td>\n",
       "      <td>0.156138</td>\n",
       "      <td>0.197000</td>\n",
       "      <td>0.160930</td>\n",
       "      <td>0.248045</td>\n",
       "      <td>1.000000</td>\n",
       "      <td>0.013677</td>\n",
       "      <td>0.014111</td>\n",
       "      <td>0.008885</td>\n",
       "      <td>...</td>\n",
       "      <td>-0.036324</td>\n",
       "      <td>-0.001940</td>\n",
       "      <td>0.020698</td>\n",
       "      <td>-0.008736</td>\n",
       "      <td>-0.007040</td>\n",
       "      <td>0.007998</td>\n",
       "      <td>-0.065128</td>\n",
       "      <td>0.024333</td>\n",
       "      <td>0.026323</td>\n",
       "      <td>0.008805</td>\n",
       "    </tr>\n",
       "    <tr>\n",
       "      <th>regdt_year</th>\n",
       "      <td>-0.313036</td>\n",
       "      <td>-0.086437</td>\n",
       "      <td>-0.147571</td>\n",
       "      <td>-0.037571</td>\n",
       "      <td>0.072554</td>\n",
       "      <td>0.024097</td>\n",
       "      <td>0.013677</td>\n",
       "      <td>1.000000</td>\n",
       "      <td>0.000742</td>\n",
       "      <td>0.022557</td>\n",
       "      <td>...</td>\n",
       "      <td>0.083585</td>\n",
       "      <td>0.039861</td>\n",
       "      <td>-0.007811</td>\n",
       "      <td>-0.007833</td>\n",
       "      <td>0.002740</td>\n",
       "      <td>-0.002042</td>\n",
       "      <td>-0.185761</td>\n",
       "      <td>0.133926</td>\n",
       "      <td>-0.006595</td>\n",
       "      <td>-0.036999</td>\n",
       "    </tr>\n",
       "    <tr>\n",
       "      <th>regdt_month</th>\n",
       "      <td>-0.051058</td>\n",
       "      <td>-0.021992</td>\n",
       "      <td>-0.025601</td>\n",
       "      <td>0.003128</td>\n",
       "      <td>0.004064</td>\n",
       "      <td>-0.014604</td>\n",
       "      <td>0.014111</td>\n",
       "      <td>0.000742</td>\n",
       "      <td>1.000000</td>\n",
       "      <td>0.057590</td>\n",
       "      <td>...</td>\n",
       "      <td>0.083590</td>\n",
       "      <td>0.015666</td>\n",
       "      <td>-0.007323</td>\n",
       "      <td>0.007800</td>\n",
       "      <td>0.015635</td>\n",
       "      <td>0.028817</td>\n",
       "      <td>-0.040684</td>\n",
       "      <td>0.011154</td>\n",
       "      <td>0.020043</td>\n",
       "      <td>0.000756</td>\n",
       "    </tr>\n",
       "    <tr>\n",
       "      <th>regdt_day</th>\n",
       "      <td>-0.026454</td>\n",
       "      <td>-0.003561</td>\n",
       "      <td>-0.015111</td>\n",
       "      <td>-0.002039</td>\n",
       "      <td>-0.008354</td>\n",
       "      <td>0.002098</td>\n",
       "      <td>0.008885</td>\n",
       "      <td>0.022557</td>\n",
       "      <td>0.057590</td>\n",
       "      <td>1.000000</td>\n",
       "      <td>...</td>\n",
       "      <td>0.007021</td>\n",
       "      <td>-0.011910</td>\n",
       "      <td>-0.019332</td>\n",
       "      <td>-0.005195</td>\n",
       "      <td>0.003344</td>\n",
       "      <td>0.004266</td>\n",
       "      <td>-0.019240</td>\n",
       "      <td>0.008205</td>\n",
       "      <td>-0.008109</td>\n",
       "      <td>-0.001704</td>\n",
       "    </tr>\n",
       "    <tr>\n",
       "      <th>OrgCreationDate_year</th>\n",
       "      <td>0.201542</td>\n",
       "      <td>0.127894</td>\n",
       "      <td>0.146823</td>\n",
       "      <td>0.040690</td>\n",
       "      <td>0.074250</td>\n",
       "      <td>0.047530</td>\n",
       "      <td>0.037027</td>\n",
       "      <td>-0.098991</td>\n",
       "      <td>-0.010591</td>\n",
       "      <td>-0.001316</td>\n",
       "      <td>...</td>\n",
       "      <td>-0.322993</td>\n",
       "      <td>0.041872</td>\n",
       "      <td>-0.001979</td>\n",
       "      <td>0.000698</td>\n",
       "      <td>0.003449</td>\n",
       "      <td>-0.015188</td>\n",
       "      <td>0.054823</td>\n",
       "      <td>-0.067767</td>\n",
       "      <td>-0.002112</td>\n",
       "      <td>0.028739</td>\n",
       "    </tr>\n",
       "    <tr>\n",
       "      <th>OrgCreationDate_month</th>\n",
       "      <td>-0.079260</td>\n",
       "      <td>-0.078681</td>\n",
       "      <td>-0.088212</td>\n",
       "      <td>-0.043067</td>\n",
       "      <td>-0.043132</td>\n",
       "      <td>-0.066929</td>\n",
       "      <td>-0.036324</td>\n",
       "      <td>0.083585</td>\n",
       "      <td>0.083590</td>\n",
       "      <td>0.007021</td>\n",
       "      <td>...</td>\n",
       "      <td>1.000000</td>\n",
       "      <td>-0.170170</td>\n",
       "      <td>0.000487</td>\n",
       "      <td>-0.000375</td>\n",
       "      <td>-0.010125</td>\n",
       "      <td>0.004150</td>\n",
       "      <td>-0.021046</td>\n",
       "      <td>0.066798</td>\n",
       "      <td>0.004767</td>\n",
       "      <td>-0.043713</td>\n",
       "    </tr>\n",
       "    <tr>\n",
       "      <th>OrgCreationDate_day</th>\n",
       "      <td>-0.021363</td>\n",
       "      <td>-0.046279</td>\n",
       "      <td>-0.025191</td>\n",
       "      <td>-0.032015</td>\n",
       "      <td>0.024912</td>\n",
       "      <td>-0.011538</td>\n",
       "      <td>-0.001940</td>\n",
       "      <td>0.039861</td>\n",
       "      <td>0.015666</td>\n",
       "      <td>-0.011910</td>\n",
       "      <td>...</td>\n",
       "      <td>-0.170170</td>\n",
       "      <td>1.000000</td>\n",
       "      <td>0.008172</td>\n",
       "      <td>0.017261</td>\n",
       "      <td>-0.017043</td>\n",
       "      <td>0.009557</td>\n",
       "      <td>-0.042318</td>\n",
       "      <td>-0.000108</td>\n",
       "      <td>0.015146</td>\n",
       "      <td>0.022245</td>\n",
       "    </tr>\n",
       "    <tr>\n",
       "      <th>10</th>\n",
       "      <td>0.037797</td>\n",
       "      <td>0.000191</td>\n",
       "      <td>0.002174</td>\n",
       "      <td>-0.028980</td>\n",
       "      <td>-0.031746</td>\n",
       "      <td>0.043085</td>\n",
       "      <td>0.020698</td>\n",
       "      <td>-0.007811</td>\n",
       "      <td>-0.007323</td>\n",
       "      <td>-0.019332</td>\n",
       "      <td>...</td>\n",
       "      <td>0.000487</td>\n",
       "      <td>0.008172</td>\n",
       "      <td>1.000000</td>\n",
       "      <td>-0.007265</td>\n",
       "      <td>-0.001622</td>\n",
       "      <td>-0.060466</td>\n",
       "      <td>-0.030660</td>\n",
       "      <td>-0.099477</td>\n",
       "      <td>0.222090</td>\n",
       "      <td>0.116329</td>\n",
       "    </tr>\n",
       "    <tr>\n",
       "      <th>12</th>\n",
       "      <td>0.037395</td>\n",
       "      <td>0.018262</td>\n",
       "      <td>0.024961</td>\n",
       "      <td>0.001062</td>\n",
       "      <td>0.008701</td>\n",
       "      <td>0.026478</td>\n",
       "      <td>-0.008736</td>\n",
       "      <td>-0.007833</td>\n",
       "      <td>0.007800</td>\n",
       "      <td>-0.005195</td>\n",
       "      <td>...</td>\n",
       "      <td>-0.000375</td>\n",
       "      <td>0.017261</td>\n",
       "      <td>-0.007265</td>\n",
       "      <td>1.000000</td>\n",
       "      <td>-0.000707</td>\n",
       "      <td>-0.026339</td>\n",
       "      <td>-0.002458</td>\n",
       "      <td>-0.043333</td>\n",
       "      <td>0.096744</td>\n",
       "      <td>0.050674</td>\n",
       "    </tr>\n",
       "    <tr>\n",
       "      <th>13</th>\n",
       "      <td>0.002563</td>\n",
       "      <td>-0.012869</td>\n",
       "      <td>-0.011427</td>\n",
       "      <td>-0.015041</td>\n",
       "      <td>-0.014565</td>\n",
       "      <td>0.004057</td>\n",
       "      <td>-0.007040</td>\n",
       "      <td>0.002740</td>\n",
       "      <td>0.015635</td>\n",
       "      <td>0.003344</td>\n",
       "      <td>...</td>\n",
       "      <td>-0.010125</td>\n",
       "      <td>-0.017043</td>\n",
       "      <td>-0.001622</td>\n",
       "      <td>-0.000707</td>\n",
       "      <td>1.000000</td>\n",
       "      <td>-0.005881</td>\n",
       "      <td>-0.004503</td>\n",
       "      <td>-0.009675</td>\n",
       "      <td>0.021600</td>\n",
       "      <td>0.011314</td>\n",
       "    </tr>\n",
       "    <tr>\n",
       "      <th>15</th>\n",
       "      <td>0.052674</td>\n",
       "      <td>0.042681</td>\n",
       "      <td>0.041427</td>\n",
       "      <td>-0.087085</td>\n",
       "      <td>0.003495</td>\n",
       "      <td>0.053851</td>\n",
       "      <td>0.007998</td>\n",
       "      <td>-0.002042</td>\n",
       "      <td>0.028817</td>\n",
       "      <td>0.004266</td>\n",
       "      <td>...</td>\n",
       "      <td>0.004150</td>\n",
       "      <td>0.009557</td>\n",
       "      <td>-0.060466</td>\n",
       "      <td>-0.026339</td>\n",
       "      <td>-0.005881</td>\n",
       "      <td>1.000000</td>\n",
       "      <td>-0.087691</td>\n",
       "      <td>-0.360671</td>\n",
       "      <td>0.805225</td>\n",
       "      <td>0.421770</td>\n",
       "    </tr>\n",
       "    <tr>\n",
       "      <th>енвд</th>\n",
       "      <td>0.190070</td>\n",
       "      <td>0.011505</td>\n",
       "      <td>0.068476</td>\n",
       "      <td>0.011842</td>\n",
       "      <td>-0.051270</td>\n",
       "      <td>-0.054922</td>\n",
       "      <td>-0.065128</td>\n",
       "      <td>-0.185761</td>\n",
       "      <td>-0.040684</td>\n",
       "      <td>-0.019240</td>\n",
       "      <td>...</td>\n",
       "      <td>-0.021046</td>\n",
       "      <td>-0.042318</td>\n",
       "      <td>-0.030660</td>\n",
       "      <td>-0.002458</td>\n",
       "      <td>-0.004503</td>\n",
       "      <td>-0.087691</td>\n",
       "      <td>1.000000</td>\n",
       "      <td>-0.276146</td>\n",
       "      <td>-0.094193</td>\n",
       "      <td>-0.155343</td>\n",
       "    </tr>\n",
       "    <tr>\n",
       "      <th>осно</th>\n",
       "      <td>-0.164085</td>\n",
       "      <td>-0.047709</td>\n",
       "      <td>-0.117206</td>\n",
       "      <td>0.193214</td>\n",
       "      <td>-0.004642</td>\n",
       "      <td>-0.062537</td>\n",
       "      <td>0.024333</td>\n",
       "      <td>0.133926</td>\n",
       "      <td>0.011154</td>\n",
       "      <td>0.008205</td>\n",
       "      <td>...</td>\n",
       "      <td>0.066798</td>\n",
       "      <td>-0.000108</td>\n",
       "      <td>-0.099477</td>\n",
       "      <td>-0.043333</td>\n",
       "      <td>-0.009675</td>\n",
       "      <td>-0.360671</td>\n",
       "      <td>-0.276146</td>\n",
       "      <td>1.000000</td>\n",
       "      <td>-0.447914</td>\n",
       "      <td>-0.855137</td>\n",
       "    </tr>\n",
       "    <tr>\n",
       "      <th>расходов</th>\n",
       "      <td>0.089321</td>\n",
       "      <td>0.064466</td>\n",
       "      <td>0.077022</td>\n",
       "      <td>-0.081389</td>\n",
       "      <td>0.014128</td>\n",
       "      <td>0.104700</td>\n",
       "      <td>0.026323</td>\n",
       "      <td>-0.006595</td>\n",
       "      <td>0.020043</td>\n",
       "      <td>-0.008109</td>\n",
       "      <td>...</td>\n",
       "      <td>0.004767</td>\n",
       "      <td>0.015146</td>\n",
       "      <td>0.222090</td>\n",
       "      <td>0.096744</td>\n",
       "      <td>0.021600</td>\n",
       "      <td>0.805225</td>\n",
       "      <td>-0.094193</td>\n",
       "      <td>-0.447914</td>\n",
       "      <td>1.000000</td>\n",
       "      <td>0.523792</td>\n",
       "    </tr>\n",
       "    <tr>\n",
       "      <th>усн</th>\n",
       "      <td>0.067469</td>\n",
       "      <td>0.041760</td>\n",
       "      <td>0.083194</td>\n",
       "      <td>-0.181214</td>\n",
       "      <td>0.040881</td>\n",
       "      <td>0.100042</td>\n",
       "      <td>0.008805</td>\n",
       "      <td>-0.036999</td>\n",
       "      <td>0.000756</td>\n",
       "      <td>-0.001704</td>\n",
       "      <td>...</td>\n",
       "      <td>-0.043713</td>\n",
       "      <td>0.022245</td>\n",
       "      <td>0.116329</td>\n",
       "      <td>0.050674</td>\n",
       "      <td>0.011314</td>\n",
       "      <td>0.421770</td>\n",
       "      <td>-0.155343</td>\n",
       "      <td>-0.855137</td>\n",
       "      <td>0.523792</td>\n",
       "      <td>1.000000</td>\n",
       "    </tr>\n",
       "  </tbody>\n",
       "</table>\n",
       "<p>21 rows × 21 columns</p>\n",
       "</div>"
      ],
      "text/plain": [
       "                          workerCount  fssdccount  pfrdcCount  fnsdcCount  \\\n",
       "workerCount                  1.000000    0.250899    0.300031    0.104250   \n",
       "fssdccount                   0.250899    1.000000    0.780602    0.742483   \n",
       "pfrdcCount                   0.300031    0.780602    1.000000    0.651791   \n",
       "fnsdcCount                   0.104250    0.742483    0.651791    1.000000   \n",
       "hasCloudCryptCertificate    -0.018313    0.452493    0.381930    0.564082   \n",
       "documentsCount               0.254752    0.353639    0.321979    0.389442   \n",
       "cnt_users                    0.076771    0.185321    0.156138    0.197000   \n",
       "regdt_year                  -0.313036   -0.086437   -0.147571   -0.037571   \n",
       "regdt_month                 -0.051058   -0.021992   -0.025601    0.003128   \n",
       "regdt_day                   -0.026454   -0.003561   -0.015111   -0.002039   \n",
       "OrgCreationDate_year         0.201542    0.127894    0.146823    0.040690   \n",
       "OrgCreationDate_month       -0.079260   -0.078681   -0.088212   -0.043067   \n",
       "OrgCreationDate_day         -0.021363   -0.046279   -0.025191   -0.032015   \n",
       "10                           0.037797    0.000191    0.002174   -0.028980   \n",
       "12                           0.037395    0.018262    0.024961    0.001062   \n",
       "13                           0.002563   -0.012869   -0.011427   -0.015041   \n",
       "15                           0.052674    0.042681    0.041427   -0.087085   \n",
       "енвд                         0.190070    0.011505    0.068476    0.011842   \n",
       "осно                        -0.164085   -0.047709   -0.117206    0.193214   \n",
       "расходов                     0.089321    0.064466    0.077022   -0.081389   \n",
       "усн                          0.067469    0.041760    0.083194   -0.181214   \n",
       "\n",
       "                          hasCloudCryptCertificate  documentsCount  cnt_users  \\\n",
       "workerCount                              -0.018313        0.254752   0.076771   \n",
       "fssdccount                                0.452493        0.353639   0.185321   \n",
       "pfrdcCount                                0.381930        0.321979   0.156138   \n",
       "fnsdcCount                                0.564082        0.389442   0.197000   \n",
       "hasCloudCryptCertificate                  1.000000        0.291966   0.160930   \n",
       "documentsCount                            0.291966        1.000000   0.248045   \n",
       "cnt_users                                 0.160930        0.248045   1.000000   \n",
       "regdt_year                                0.072554        0.024097   0.013677   \n",
       "regdt_month                               0.004064       -0.014604   0.014111   \n",
       "regdt_day                                -0.008354        0.002098   0.008885   \n",
       "OrgCreationDate_year                      0.074250        0.047530   0.037027   \n",
       "OrgCreationDate_month                    -0.043132       -0.066929  -0.036324   \n",
       "OrgCreationDate_day                       0.024912       -0.011538  -0.001940   \n",
       "10                                       -0.031746        0.043085   0.020698   \n",
       "12                                        0.008701        0.026478  -0.008736   \n",
       "13                                       -0.014565        0.004057  -0.007040   \n",
       "15                                        0.003495        0.053851   0.007998   \n",
       "енвд                                     -0.051270       -0.054922  -0.065128   \n",
       "осно                                     -0.004642       -0.062537   0.024333   \n",
       "расходов                                  0.014128        0.104700   0.026323   \n",
       "усн                                       0.040881        0.100042   0.008805   \n",
       "\n",
       "                          regdt_year  regdt_month  regdt_day    ...     \\\n",
       "workerCount                -0.313036    -0.051058  -0.026454    ...      \n",
       "fssdccount                 -0.086437    -0.021992  -0.003561    ...      \n",
       "pfrdcCount                 -0.147571    -0.025601  -0.015111    ...      \n",
       "fnsdcCount                 -0.037571     0.003128  -0.002039    ...      \n",
       "hasCloudCryptCertificate    0.072554     0.004064  -0.008354    ...      \n",
       "documentsCount              0.024097    -0.014604   0.002098    ...      \n",
       "cnt_users                   0.013677     0.014111   0.008885    ...      \n",
       "regdt_year                  1.000000     0.000742   0.022557    ...      \n",
       "regdt_month                 0.000742     1.000000   0.057590    ...      \n",
       "regdt_day                   0.022557     0.057590   1.000000    ...      \n",
       "OrgCreationDate_year       -0.098991    -0.010591  -0.001316    ...      \n",
       "OrgCreationDate_month       0.083585     0.083590   0.007021    ...      \n",
       "OrgCreationDate_day         0.039861     0.015666  -0.011910    ...      \n",
       "10                         -0.007811    -0.007323  -0.019332    ...      \n",
       "12                         -0.007833     0.007800  -0.005195    ...      \n",
       "13                          0.002740     0.015635   0.003344    ...      \n",
       "15                         -0.002042     0.028817   0.004266    ...      \n",
       "енвд                       -0.185761    -0.040684  -0.019240    ...      \n",
       "осно                        0.133926     0.011154   0.008205    ...      \n",
       "расходов                   -0.006595     0.020043  -0.008109    ...      \n",
       "усн                        -0.036999     0.000756  -0.001704    ...      \n",
       "\n",
       "                          OrgCreationDate_month  OrgCreationDate_day  \\\n",
       "workerCount                           -0.079260            -0.021363   \n",
       "fssdccount                            -0.078681            -0.046279   \n",
       "pfrdcCount                            -0.088212            -0.025191   \n",
       "fnsdcCount                            -0.043067            -0.032015   \n",
       "hasCloudCryptCertificate              -0.043132             0.024912   \n",
       "documentsCount                        -0.066929            -0.011538   \n",
       "cnt_users                             -0.036324            -0.001940   \n",
       "regdt_year                             0.083585             0.039861   \n",
       "regdt_month                            0.083590             0.015666   \n",
       "regdt_day                              0.007021            -0.011910   \n",
       "OrgCreationDate_year                  -0.322993             0.041872   \n",
       "OrgCreationDate_month                  1.000000            -0.170170   \n",
       "OrgCreationDate_day                   -0.170170             1.000000   \n",
       "10                                     0.000487             0.008172   \n",
       "12                                    -0.000375             0.017261   \n",
       "13                                    -0.010125            -0.017043   \n",
       "15                                     0.004150             0.009557   \n",
       "енвд                                  -0.021046            -0.042318   \n",
       "осно                                   0.066798            -0.000108   \n",
       "расходов                               0.004767             0.015146   \n",
       "усн                                   -0.043713             0.022245   \n",
       "\n",
       "                                10        12        13        15      енвд  \\\n",
       "workerCount               0.037797  0.037395  0.002563  0.052674  0.190070   \n",
       "fssdccount                0.000191  0.018262 -0.012869  0.042681  0.011505   \n",
       "pfrdcCount                0.002174  0.024961 -0.011427  0.041427  0.068476   \n",
       "fnsdcCount               -0.028980  0.001062 -0.015041 -0.087085  0.011842   \n",
       "hasCloudCryptCertificate -0.031746  0.008701 -0.014565  0.003495 -0.051270   \n",
       "documentsCount            0.043085  0.026478  0.004057  0.053851 -0.054922   \n",
       "cnt_users                 0.020698 -0.008736 -0.007040  0.007998 -0.065128   \n",
       "regdt_year               -0.007811 -0.007833  0.002740 -0.002042 -0.185761   \n",
       "regdt_month              -0.007323  0.007800  0.015635  0.028817 -0.040684   \n",
       "regdt_day                -0.019332 -0.005195  0.003344  0.004266 -0.019240   \n",
       "OrgCreationDate_year     -0.001979  0.000698  0.003449 -0.015188  0.054823   \n",
       "OrgCreationDate_month     0.000487 -0.000375 -0.010125  0.004150 -0.021046   \n",
       "OrgCreationDate_day       0.008172  0.017261 -0.017043  0.009557 -0.042318   \n",
       "10                        1.000000 -0.007265 -0.001622 -0.060466 -0.030660   \n",
       "12                       -0.007265  1.000000 -0.000707 -0.026339 -0.002458   \n",
       "13                       -0.001622 -0.000707  1.000000 -0.005881 -0.004503   \n",
       "15                       -0.060466 -0.026339 -0.005881  1.000000 -0.087691   \n",
       "енвд                     -0.030660 -0.002458 -0.004503 -0.087691  1.000000   \n",
       "осно                     -0.099477 -0.043333 -0.009675 -0.360671 -0.276146   \n",
       "расходов                  0.222090  0.096744  0.021600  0.805225 -0.094193   \n",
       "усн                       0.116329  0.050674  0.011314  0.421770 -0.155343   \n",
       "\n",
       "                              осно  расходов       усн  \n",
       "workerCount              -0.164085  0.089321  0.067469  \n",
       "fssdccount               -0.047709  0.064466  0.041760  \n",
       "pfrdcCount               -0.117206  0.077022  0.083194  \n",
       "fnsdcCount                0.193214 -0.081389 -0.181214  \n",
       "hasCloudCryptCertificate -0.004642  0.014128  0.040881  \n",
       "documentsCount           -0.062537  0.104700  0.100042  \n",
       "cnt_users                 0.024333  0.026323  0.008805  \n",
       "regdt_year                0.133926 -0.006595 -0.036999  \n",
       "regdt_month               0.011154  0.020043  0.000756  \n",
       "regdt_day                 0.008205 -0.008109 -0.001704  \n",
       "OrgCreationDate_year     -0.067767 -0.002112  0.028739  \n",
       "OrgCreationDate_month     0.066798  0.004767 -0.043713  \n",
       "OrgCreationDate_day      -0.000108  0.015146  0.022245  \n",
       "10                       -0.099477  0.222090  0.116329  \n",
       "12                       -0.043333  0.096744  0.050674  \n",
       "13                       -0.009675  0.021600  0.011314  \n",
       "15                       -0.360671  0.805225  0.421770  \n",
       "енвд                     -0.276146 -0.094193 -0.155343  \n",
       "осно                      1.000000 -0.447914 -0.855137  \n",
       "расходов                 -0.447914  1.000000  0.523792  \n",
       "усн                      -0.855137  0.523792  1.000000  \n",
       "\n",
       "[21 rows x 21 columns]"
      ]
     },
     "execution_count": 22,
     "metadata": {},
     "output_type": "execute_result"
    }
   ],
   "source": [
    "X_train.corr()"
   ]
  },
  {
   "cell_type": "code",
   "execution_count": 23,
   "metadata": {
    "scrolled": false
   },
   "outputs": [
    {
     "data": {
      "image/png": "[encoded data removed]",
      "text/plain": [
       "<matplotlib.figure.Figure at 0x22ac0f5d438>"
      ]
     },
     "metadata": {},
     "output_type": "display_data"
    }
   ],
   "source": [
    "plt.imshow(X_train.corr());\n",
    "plt.colorbar();"
   ]
  },
  {
   "cell_type": "markdown",
   "metadata": {},
   "source": [
    " - В матрице имеются несколько пар коррелирующих столбцов fssdccount, pfrdcCount, fnsdcCount и енвд, расходов. Посмотрим как этот факт сказывается на обучении линейной модели. Обучим линейную регрессию на данных и посмотрим на веса признаков:"
   ]
  },
  {
   "cell_type": "code",
   "execution_count": 24,
   "metadata": {},
   "outputs": [
    {
     "name": "stdout",
     "output_type": "stream",
     "text": [
      "workerCount: 0.07858667062576577\n",
      "fssdccount: 0.04861214912361487\n",
      "pfrdcCount: -0.015925289678270556\n",
      "fnsdcCount: 0.05768098794227507\n",
      "hasCloudCryptCertificate: 0.25562050932147323\n",
      "documentsCount: 0.037441379207969\n",
      "cnt_users: 0.015454257474190172\n",
      "regdt_year: -0.007272073264689788\n",
      "regdt_month: -0.00011495294005653411\n",
      "regdt_day: 0.0003424628652593936\n",
      "OrgCreationDate_year: 0.05557016353856509\n",
      "OrgCreationDate_month: 0.0027464118281825822\n",
      "OrgCreationDate_day: -0.0007744112040940845\n",
      "10: 0.000949875654226876\n",
      "12: -0.10481255919923751\n",
      "13: -0.43573522741182286\n",
      "15: -0.020961001345214066\n",
      "енвд: -0.041788654944838216\n",
      "осно: -0.14024712140498108\n",
      "расходов: -0.029392328826029077\n",
      "усн: -0.04893011963212866\n"
     ]
    }
   ],
   "source": [
    "linear_regressor = linear_model.LinearRegression()\n",
    "linear_regressor.fit(X_train, y_train)\n",
    "for w, coef in zip(X_train.columns, linear_regressor.coef_):\n",
    "    print('{}: {}'.format(w, coef))"
   ]
  },
  {
   "cell_type": "markdown",
   "metadata": {},
   "source": [
    " - веса при линейно-зависимых признаках не сильно выделяются на фоне весов при других признаках."
   ]
  },
  {
   "cell_type": "markdown",
   "metadata": {},
   "source": [
    "### Масштаб признаков"
   ]
  },
  {
   "cell_type": "markdown",
   "metadata": {},
   "source": [
    " - посмотрим средние признаков, чтобы оценить масштаб признаков:"
   ]
  },
  {
   "cell_type": "code",
   "execution_count": 25,
   "metadata": {},
   "outputs": [
    {
     "data": {
      "text/plain": [
       "workerCount                    0.800631\n",
       "fssdccount                     0.835331\n",
       "pfrdcCount                     0.840221\n",
       "fnsdcCount                     1.230599\n",
       "hasCloudCryptCertificate       0.573502\n",
       "documentsCount                 4.125394\n",
       "cnt_users                      0.276656\n",
       "regdt_year                  2010.870820\n",
       "regdt_month                    6.723659\n",
       "regdt_day                     15.661199\n",
       "OrgCreationDate_year        2014.790536\n",
       "OrgCreationDate_month          5.823344\n",
       "OrgCreationDate_day           15.988959\n",
       "10                             0.016404\n",
       "12                             0.003155\n",
       "13                             0.000158\n",
       "15                             0.179811\n",
       "енвд                           0.113880\n",
       "осно                           0.372397\n",
       "расходов                       0.252681\n",
       "усн                            0.552050\n",
       "dtype: float64"
      ]
     },
     "execution_count": 25,
     "metadata": {},
     "output_type": "execute_result"
    }
   ],
   "source": [
    "X_train.mean(axis=0)"
   ]
  },
  {
   "cell_type": "markdown",
   "metadata": {},
   "source": [
    " - Признаки имеют разный масштаб, значит для дальнейшей работы нам лучше нормировать матрицу объекты-признаки:"
   ]
  },
  {
   "cell_type": "code",
   "execution_count": 26,
   "metadata": {},
   "outputs": [],
   "source": [
    "from sklearn.preprocessing import scale\n",
    "X_train = scale(X_train)\n",
    "X_test = scale(X_test)"
   ]
  },
  {
   "cell_type": "markdown",
   "metadata": {},
   "source": [
    "### Оценка по кросс-валидации"
   ]
  },
  {
   "cell_type": "markdown",
   "metadata": {},
   "source": [
    "Будем выбирать лучший классификатор по качеству по кросс-валидации."
   ]
  },
  {
   "cell_type": "markdown",
   "metadata": {},
   "source": [
    "#### Гауссов наивный байесовский классификатор:"
   ]
  },
  {
   "cell_type": "code",
   "execution_count": 27,
   "metadata": {},
   "outputs": [
    {
     "name": "stdout",
     "output_type": "stream",
     "text": [
      "Качество на разбиениях:[0.7480315  0.61417323 0.61356467 0.61198738 0.61356467 0.61356467\n",
      " 0.61356467 0.61356467 0.61453397 0.61453397]\n",
      "Среднее:0.6271083380451231\n"
     ]
    }
   ],
   "source": [
    "gnb = naive_bayes.GaussianNB()\n",
    "scores = cross_validation.cross_val_score(gnb, X_train,y_train, cv=10)\n",
    "print('Качество на разбиениях:' + str(scores))\n",
    "print('Среднее:' + str(scores.mean()))"
   ]
  },
  {
   "cell_type": "markdown",
   "metadata": {},
   "source": [
    "#### Стохастический градиентный спуск:"
   ]
  },
  {
   "cell_type": "code",
   "execution_count": 28,
   "metadata": {},
   "outputs": [
    {
     "name": "stdout",
     "output_type": "stream",
     "text": [
      "[0.57322835 0.62992126 0.70820189 0.73974763 0.75394322 0.64037855\n",
      " 0.72397476 0.69242902 0.7314376  0.68246445]\n",
      "0.6875726738876046\n"
     ]
    },
    {
     "name": "stderr",
     "output_type": "stream",
     "text": [
      "C:\\Anaconda3\\lib\\site-packages\\sklearn\\linear_model\\stochastic_gradient.py:128: FutureWarning: max_iter and tol parameters have been added in <class 'sklearn.linear_model.stochastic_gradient.SGDClassifier'> in 0.19. If both are left unset, they default to max_iter=5 and tol=None. If tol is not None, max_iter defaults to max_iter=1000. From 0.21, default max_iter will be 1000, and default tol will be 1e-3.\n",
      "  \"and default tol will be 1e-3.\" % type(self), FutureWarning)\n",
      "C:\\Anaconda3\\lib\\site-packages\\sklearn\\linear_model\\stochastic_gradient.py:128: FutureWarning: max_iter and tol parameters have been added in <class 'sklearn.linear_model.stochastic_gradient.SGDClassifier'> in 0.19. If both are left unset, they default to max_iter=5 and tol=None. If tol is not None, max_iter defaults to max_iter=1000. From 0.21, default max_iter will be 1000, and default tol will be 1e-3.\n",
      "  \"and default tol will be 1e-3.\" % type(self), FutureWarning)\n",
      "C:\\Anaconda3\\lib\\site-packages\\sklearn\\linear_model\\stochastic_gradient.py:128: FutureWarning: max_iter and tol parameters have been added in <class 'sklearn.linear_model.stochastic_gradient.SGDClassifier'> in 0.19. If both are left unset, they default to max_iter=5 and tol=None. If tol is not None, max_iter defaults to max_iter=1000. From 0.21, default max_iter will be 1000, and default tol will be 1e-3.\n",
      "  \"and default tol will be 1e-3.\" % type(self), FutureWarning)\n",
      "C:\\Anaconda3\\lib\\site-packages\\sklearn\\linear_model\\stochastic_gradient.py:128: FutureWarning: max_iter and tol parameters have been added in <class 'sklearn.linear_model.stochastic_gradient.SGDClassifier'> in 0.19. If both are left unset, they default to max_iter=5 and tol=None. If tol is not None, max_iter defaults to max_iter=1000. From 0.21, default max_iter will be 1000, and default tol will be 1e-3.\n",
      "  \"and default tol will be 1e-3.\" % type(self), FutureWarning)\n",
      "C:\\Anaconda3\\lib\\site-packages\\sklearn\\linear_model\\stochastic_gradient.py:128: FutureWarning: max_iter and tol parameters have been added in <class 'sklearn.linear_model.stochastic_gradient.SGDClassifier'> in 0.19. If both are left unset, they default to max_iter=5 and tol=None. If tol is not None, max_iter defaults to max_iter=1000. From 0.21, default max_iter will be 1000, and default tol will be 1e-3.\n",
      "  \"and default tol will be 1e-3.\" % type(self), FutureWarning)\n",
      "C:\\Anaconda3\\lib\\site-packages\\sklearn\\linear_model\\stochastic_gradient.py:128: FutureWarning: max_iter and tol parameters have been added in <class 'sklearn.linear_model.stochastic_gradient.SGDClassifier'> in 0.19. If both are left unset, they default to max_iter=5 and tol=None. If tol is not None, max_iter defaults to max_iter=1000. From 0.21, default max_iter will be 1000, and default tol will be 1e-3.\n",
      "  \"and default tol will be 1e-3.\" % type(self), FutureWarning)\n",
      "C:\\Anaconda3\\lib\\site-packages\\sklearn\\linear_model\\stochastic_gradient.py:128: FutureWarning: max_iter and tol parameters have been added in <class 'sklearn.linear_model.stochastic_gradient.SGDClassifier'> in 0.19. If both are left unset, they default to max_iter=5 and tol=None. If tol is not None, max_iter defaults to max_iter=1000. From 0.21, default max_iter will be 1000, and default tol will be 1e-3.\n",
      "  \"and default tol will be 1e-3.\" % type(self), FutureWarning)\n",
      "C:\\Anaconda3\\lib\\site-packages\\sklearn\\linear_model\\stochastic_gradient.py:128: FutureWarning: max_iter and tol parameters have been added in <class 'sklearn.linear_model.stochastic_gradient.SGDClassifier'> in 0.19. If both are left unset, they default to max_iter=5 and tol=None. If tol is not None, max_iter defaults to max_iter=1000. From 0.21, default max_iter will be 1000, and default tol will be 1e-3.\n",
      "  \"and default tol will be 1e-3.\" % type(self), FutureWarning)\n",
      "C:\\Anaconda3\\lib\\site-packages\\sklearn\\linear_model\\stochastic_gradient.py:128: FutureWarning: max_iter and tol parameters have been added in <class 'sklearn.linear_model.stochastic_gradient.SGDClassifier'> in 0.19. If both are left unset, they default to max_iter=5 and tol=None. If tol is not None, max_iter defaults to max_iter=1000. From 0.21, default max_iter will be 1000, and default tol will be 1e-3.\n",
      "  \"and default tol will be 1e-3.\" % type(self), FutureWarning)\n",
      "C:\\Anaconda3\\lib\\site-packages\\sklearn\\linear_model\\stochastic_gradient.py:128: FutureWarning: max_iter and tol parameters have been added in <class 'sklearn.linear_model.stochastic_gradient.SGDClassifier'> in 0.19. If both are left unset, they default to max_iter=5 and tol=None. If tol is not None, max_iter defaults to max_iter=1000. From 0.21, default max_iter will be 1000, and default tol will be 1e-3.\n",
      "  \"and default tol will be 1e-3.\" % type(self), FutureWarning)\n"
     ]
    }
   ],
   "source": [
    "sgd = linear_model.SGDClassifier()\n",
    "scores = cross_validation.cross_val_score(sgd, X_train,y_train, cv=10)\n",
    "print(scores)\n",
    "print(scores.mean())"
   ]
  },
  {
   "cell_type": "markdown",
   "metadata": {},
   "source": [
    "#### Логистическая регрессия"
   ]
  },
  {
   "cell_type": "code",
   "execution_count": 29,
   "metadata": {},
   "outputs": [
    {
     "name": "stdout",
     "output_type": "stream",
     "text": [
      "[0.76692913 0.79212598 0.79495268 0.77444795 0.79495268 0.7555205\n",
      " 0.76656151 0.79179811 0.75039494 0.78988942]\n",
      "0.7777572916785613\n"
     ]
    }
   ],
   "source": [
    "log_regressor = linear_model.LogisticRegression(random_state = 1)\n",
    "scores = cross_validation.cross_val_score(log_regressor, X_train,y_train, cv=10)\n",
    "print(scores)\n",
    "print(scores.mean())"
   ]
  },
  {
   "cell_type": "markdown",
   "metadata": {},
   "source": [
    "#### Метод опорных векторов"
   ]
  },
  {
   "cell_type": "code",
   "execution_count": 30,
   "metadata": {},
   "outputs": [
    {
     "name": "stdout",
     "output_type": "stream",
     "text": [
      "[0.7984252  0.81889764 0.8170347  0.79022082 0.79810726 0.7807571\n",
      " 0.80599369 0.82176656 0.78988942 0.80410742]\n",
      "0.8025199801270972\n"
     ]
    }
   ],
   "source": [
    "svc=svm.SVC(C=50,gamma=0.005,kernel='rbf')\n",
    "scores = cross_validation.cross_val_score(svc, X_train,y_train, cv=10)\n",
    "print(scores)\n",
    "print(scores.mean())"
   ]
  },
  {
   "cell_type": "markdown",
   "metadata": {},
   "source": [
    "#### Деревья принятия решений"
   ]
  },
  {
   "cell_type": "code",
   "execution_count": 31,
   "metadata": {},
   "outputs": [
    {
     "name": "stdout",
     "output_type": "stream",
     "text": [
      "[0.81417323 0.82204724 0.82807571 0.82807571 0.82807571 0.8044164\n",
      " 0.829653   0.83596215 0.81674566 0.82464455]\n",
      "0.8231869352891057\n"
     ]
    }
   ],
   "source": [
    "sqrt2_d_tree = tree.DecisionTreeClassifier(random_state=37,max_features=int(np.sqrt(X_train.shape[1])))\n",
    "sqrt2_bagging = ensemble.BaggingClassifier(base_estimator=sqrt2_d_tree, random_state=11, n_estimators=300)\n",
    "scores = cross_validation.cross_val_score(sqrt2_bagging, X_train,y_train, cv=10)\n",
    "print(scores)\n",
    "print(scores.mean())"
   ]
  },
  {
   "cell_type": "markdown",
   "metadata": {},
   "source": [
    " - Из рассмотренных методов, DecisionTreeClassifier показал лучшее качество. Данный классификатор - бэггинг на рандомизированных деревьях (в которых при построении каждой вершины выбирается случайное подмножество признаков и разбиение ищется только по ним)."
   ]
  },
  {
   "cell_type": "markdown",
   "metadata": {},
   "source": [
    "### Confusion_matrix"
   ]
  },
  {
   "cell_type": "code",
   "execution_count": 32,
   "metadata": {},
   "outputs": [
    {
     "data": {
      "image/png": "[encoded data removed]",
      "text/plain": [
       "<matplotlib.figure.Figure at 0x22ac0ff6320>"
      ]
     },
     "metadata": {},
     "output_type": "display_data"
    }
   ],
   "source": [
    "from sklearn.metrics import confusion_matrix\n",
    "y_pred = cross_validation.cross_val_predict(sqrt2_bagging, X_train,y_train, cv=10)\n",
    "conf_mat = confusion_matrix(y_train, y_pred)\n",
    "sns.heatmap(conf_mat.T,square=True,annot=True,fmt='d',cbar=False);\n",
    "plt.xlabel('True label');\n",
    "plt.ylabel('Predicted label');"
   ]
  },
  {
   "cell_type": "markdown",
   "metadata": {},
   "source": [
    "### Предсказание"
   ]
  },
  {
   "cell_type": "markdown",
   "metadata": {},
   "source": [
    "- Предскажем теперь метки для X_test:"
   ]
  },
  {
   "cell_type": "code",
   "execution_count": 33,
   "metadata": {},
   "outputs": [],
   "source": [
    "sqrt2_bagging.fit(X_train,y_train)\n",
    "#Вероятность продления\n",
    "ypred_prob = sqrt2_bagging.predict_proba(X_test)\n",
    "#Итоговые метки\n",
    "ypred = sqrt2_bagging.predict(X_test)"
   ]
  },
  {
   "cell_type": "markdown",
   "metadata": {},
   "source": [
    "- Представим результаты в виде гистограмм вероятностей продления и полученных меток:"
   ]
  },
  {
   "cell_type": "code",
   "execution_count": 34,
   "metadata": {},
   "outputs": [
    {
     "name": "stdout",
     "output_type": "stream",
     "text": [
      "Number of is_prolong = 1 : 1449.0\n",
      "Number of is_prolong = 0 : 685.0\n"
     ]
    },
    {
     "data": {
      "image/png": "[encoded data removed]",
      "text/plain": [
       "<matplotlib.figure.Figure at 0x22ac1409b00>"
      ]
     },
     "metadata": {},
     "output_type": "display_data"
    }
   ],
   "source": [
    "print('Number of is_prolong = 1 : ' + str(np.sum(ypred[ypred==1])))\n",
    "print('Number of is_prolong = 0 : ' + str(ypred.shape[0]-np.sum(ypred[ypred==1])))\n",
    "plt.figure(figsize=(16,6));    \n",
    "plt.subplot(1,2,1);\n",
    "plt.hist(ypred_prob[:,1]);\n",
    "plt.xlabel('Predicted probability is_prolong = 1');\n",
    "plt.ylabel('Number of IDs');\n",
    "plt.subplot(1,2,2);\n",
    "plt.hist(ypred);\n",
    "plt.xlabel('Predicted is_prolong');\n",
    "plt.ylabel('Number of IDs');"
   ]
  },
  {
   "cell_type": "markdown",
   "metadata": {},
   "source": [
    "Кол-во пользователей, которые продлят 1449. Не продлят 685. "
   ]
  },
  {
   "cell_type": "markdown",
   "metadata": {},
   "source": [
    "#### Результаты в формате id, is_prolong в файле 'results.txt'"
   ]
  },
  {
   "cell_type": "code",
   "execution_count": 35,
   "metadata": {},
   "outputs": [],
   "source": [
    "with open('results.txt','w') as file_obj:\n",
    "    for i in range(ypred.shape[0]):\n",
    "        file_obj.writelines(str(ID_test[i]) + ' ' + str(np.round(ypred[i])) + '\\n')"
   ]
  },
  {
   "cell_type": "code",
   "execution_count": null,
   "metadata": {},
   "outputs": [],
   "source": []
  }
 ],
 "metadata": {
  "kernelspec": {
   "display_name": "Python 3",
   "language": "python",
   "name": "python3"
  },
  "language_info": {
   "codemirror_mode": {
    "name": "ipython",
    "version": 3
   },
   "file_extension": ".py",
   "mimetype": "text/x-python",
   "name": "python",
   "nbconvert_exporter": "python",
   "pygments_lexer": "ipython3",
   "version": "3.6.4"
  }
 },
 "nbformat": 4,
 "nbformat_minor": 2
}
